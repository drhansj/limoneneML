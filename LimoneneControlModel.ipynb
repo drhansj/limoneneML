{
 "cells": [
  {
   "cell_type": "markdown",
   "metadata": {},
   "source": [
    "We need a model that: \n",
    "* Turns PCAP data into a noise=y/time series system\n",
    "* Needs to have a control variable and a feedback"
   ]
  },
  {
   "cell_type": "markdown",
   "metadata": {},
   "source": [
    "* $X$ is cell concentration measured by $OD$\n",
    "* $dX = X \\mu dt$ where $\\mu$ is a growth rate at start / early times\n",
    "* $X$ is more like a $tanh$ / $erfc$ asymptotic-limited at late times\n",
    "* What form is $ \\mu (S) $? vs. $S$ the sugar controlled with feed rate\n",
    "* Feed rate for target $\\mu$ is $F(t) = \\mu C exp(\\mu t)$\n",
    "* Control over $F$ is only when you start (when S is 0 after 4-6 hours), and how long you push for target growth rate (10-20 hours) then drop to a constant for (up to 24 hours total)\n",
    "* Need a function $X(\\mu, X_final)"
   ]
  },
  {
   "cell_type": "code",
   "execution_count": 153,
   "metadata": {},
   "outputs": [
    {
     "data": {
      "image/png": "[encoded data removed]",
      "text/plain": [
       "<matplotlib.figure.Figure at 0x1140a4668>"
      ]
     },
     "metadata": {},
     "output_type": "display_data"
    }
   ],
   "source": [
    "%matplotlib inline\n",
    "import numpy as np\n",
    "from matplotlib import pyplot as plt\n",
    "\n",
    "t = np.linspace(0., 24, 96)\n",
    "\n",
    "def feed(time, mu, tstart, tend, Fend):\n",
    "    early = (t <= tstart)\n",
    "    late = (t > tend)\n",
    "    earlyval = np.zeros(time.shape) * early\n",
    "    lateval = Fend * np.ones(time.shape) * late\n",
    "    expfeed = np.exp((time-tstart)* mu) * (np.logical_not(np.logical_or(early,late)))\n",
    "    retval = earlyval + expfeed + lateval\n",
    "    return retval\n",
    "\n",
    "mu = .11\n",
    "tstart = 2\n",
    "tend = 10\n",
    "Fend = .2\n",
    "plt.plot(t, feed(t,mu, tstart, tend, Fend), '-')\n",
    "plt.xlabel('time')\n",
    "plt.ylabel('feed')\n",
    "plt.grid(color='b', linestyle=':', linewidth=.5)\n"
   ]
  },
  {
   "cell_type": "code",
   "execution_count": 160,
   "metadata": {},
   "outputs": [
    {
     "name": "stdout",
     "output_type": "stream",
     "text": [
      "Value of mu: 0.374466534194\n"
     ]
    },
    {
     "data": {
      "image/png": "[encoded data removed]",
      "text/plain": [
       "<matplotlib.figure.Figure at 0x113d9cef0>"
      ]
     },
     "metadata": {},
     "output_type": "display_data"
    }
   ],
   "source": [
    "def ODfunc(time, ODinit, tfeed, ODinduce, tinduce, ODfinal):\n",
    "    # Calculate some derived quantities\n",
    "    tfinal = max(t)\n",
    "    # ODmu in unknown - pick a value that\n",
    "    mu = np.log(ODinduce / ODinit) / (tinduce - tfeed)\n",
    "    print(\"Value of mu:\", mu)\n",
    "    # Create masks for the early, feed, induce phases\n",
    "    early = (t <= tfeed)\n",
    "    late = (t > tinduce)\n",
    "    mid = (np.logical_not(np.logical_or(early,late)))\n",
    "    # Create the values that match the model\n",
    "    earlyval = ODinit * np.ones(time.shape) * early\n",
    "    midval = (ODinit*np.exp((time-tfeed)* mu)) * mid\n",
    "    lateval = (ODfinal - (ODfinal - ODinduce)*np.exp(-(time-tinduce) * (mu*20) / (tfinal - tinduce))) * late\n",
    "    retval = earlyval + midval + lateval\n",
    "    return retval\n",
    "\n",
    "ODinit = .1\n",
    "tinduce = 10\n",
    "ODinduce = 2\n",
    "ODfinal = 4\n",
    "tfeed = tstart\n",
    "\n",
    "# tinduce = tend\n",
    "plt.plot(t, ODfunc(t, ODinit, tfeed, ODinduce, tinduce, ODfinal), '-', color='r')\n",
    "plt.grid(color='b', linestyle=':', linewidth=.5)\n"
   ]
  },
  {
   "cell_type": "code",
   "execution_count": 258,
   "metadata": {},
   "outputs": [
    {
     "name": "stdout",
     "output_type": "stream",
     "text": [
      "      InducedOD InducerLevel Ecoli Strain\n",
      "Line                                     \n",
      "2X-Hh         H            h           2X\n",
      "2X-Hl         H            l           2X\n",
      "2X-Hm         H            m           2X\n",
      "2X-Lh         L            h           2X\n",
      "2X-Ll         L            l           2X\n",
      "2X-Lm         L            m           2X\n",
      "2X-Mh         M            h           2X\n",
      "2X-Ml         M            l           2X\n",
      "2X-Mm         M            m           2X\n",
      "A-Hh          H            h            A\n",
      "A-Hl          H            l            A\n",
      "A-Hm          H            m            A\n",
      "A-Lh          L            h            A\n",
      "A-Ll          L            l            A\n",
      "A-Lm          L            m            A\n",
      "A-Mh          M            h            A\n",
      "A-Ml          M            l            A\n",
      "A-Mm          M            m            A\n",
      "B-Hh          H            h            B\n",
      "B-Hl          H            l            B\n",
      "B-Hm          H            m            B\n",
      "B-Lh          L            h            B\n",
      "B-Ll          L            l            B\n",
      "B-Lm          L            m            B\n",
      "B-Mh          M            h            B\n",
      "B-Ml          M            l            B\n",
      "B-Mm          M            m            B\n",
      "BL-Mh         M            h           BL\n",
      "BL-Ml         M            l           BL\n",
      "BL-Mm         M            m           BL\n",
      "       Optical Density\n",
      "Line                  \n",
      "2X-Hh          4.18000\n",
      "2X-Hl          5.86600\n",
      "2X-Hm          4.40867\n",
      "2X-Lh          4.96467\n",
      "2X-Ll          6.36200\n",
      "2X-Lm          4.87267\n",
      "2X-Mh          4.19200\n",
      "2X-Ml          5.93000\n",
      "2X-Mm          4.31600\n",
      "A-Hh           4.69667\n",
      "A-Hl           5.03733\n",
      "A-Hm           4.81667\n",
      "A-Lh           5.77800\n",
      "A-Ll           4.90733\n",
      "A-Lm           6.11200\n",
      "A-Mh           5.29333\n",
      "A-Ml           4.88600\n",
      "A-Mm           4.95867\n",
      "B-Hh           4.24800\n",
      "B-Hl           3.89067\n",
      "B-Hm           4.03733\n",
      "B-Lh           5.69467\n",
      "B-Ll           4.14333\n",
      "B-Lm           6.20333\n",
      "B-Mh           5.21000\n",
      "B-Ml           4.17733\n",
      "B-Mm           5.31867\n",
      "BL-Mh          4.10533\n",
      "BL-Ml          4.46267\n",
      "BL-Mm          4.40000\n"
     ]
    }
   ],
   "source": [
    "import numpy as np\n",
    "import pandas as pd\n",
    "import matplotlib.pyplot as plt\n",
    "from sklearn.preprocessing import OneHotEncoder\n",
    "from sklearn.preprocessing import LabelEncoder\n",
    "\n",
    "# Next thing to do:\n",
    "# - input experiment results: ODfinal\n",
    "# - infer OD params: ODinduce, tinduce\n",
    "\n",
    "t_data = pd.read_csv(\"LimonenePCAPdata.csv\", index_col=0)\n",
    "#t_data = t_data[t_data.PCAPpaper != \"n\"]\n",
    "t_data.shape\n",
    "t_data.head(5)\n",
    "\n",
    "# Infer a fit between inducer Level, inducer OD, and ODfinal\n",
    "X = t_data[['InducedOD', 'InducerLevel', 'Ecoli Strain']]\n",
    "print(X)\n",
    "y = t_data[['Optical Density']]\n",
    "print(y)\n",
    "\n",
    "# Induced OD: H (2.5) M(1.2) L(.2)"
   ]
  },
  {
   "cell_type": "code",
   "execution_count": 257,
   "metadata": {},
   "outputs": [
    {
     "name": "stdout",
     "output_type": "stream",
     "text": [
      "[[ 0.36034778]\n",
      " [-1.22091333]\n",
      " [ 0.21908556]\n",
      " [ 0.44864   ]\n",
      " [-0.84395111]\n",
      " [ 0.62804778]\n",
      " [ 0.69286556]\n",
      " [-0.94039556]\n",
      " [ 0.65627333]\n",
      " [-0.00143444]\n",
      " [-0.23735556]\n",
      " [-0.03402667]\n",
      " [-0.20980222]\n",
      " [ 0.76560667]\n",
      " [-0.45639444]\n",
      " [-0.25357667]\n",
      " [ 0.25849222]\n",
      " [ 0.16849111]\n",
      " [ 0.05138333]\n",
      " [ 0.51345222]\n",
      " [ 0.34946111]\n",
      " [-0.52232444]\n",
      " [ 1.13375444]\n",
      " [-0.94357667]\n",
      " [-0.56609889]\n",
      " [ 0.57131   ]\n",
      " [-0.58736111]]\n",
      "[[-0.40582667  0.46713556 -0.06130889 -0.06404889  0.04069     0.02335889\n",
      "   0.02869222  0.18358    -0.21227222]]\n"
     ]
    }
   ],
   "source": [
    "from sklearn import linear_model\n",
    "from sklearn.linear_model import LinearRegression\n",
    "\n",
    "label_enc = LabelEncoder()\n",
    "# print(X)\n",
    "Xarr = np.array(X)[0:27,:]\n",
    "# print(Xarr)\n",
    "Xstr = label_enc.fit_transform(Xarr[:,0])\n",
    "Xiod = label_enc.fit_transform(Xarr[:,1])\n",
    "Xinl = label_enc.fit_transform(Xarr[:,2])\n",
    "Xenc = np.transpose(np.array([Xstr, Xiod, Xinl]))\n",
    "Xohenc = OneHotEncoder(sparse = False).fit_transform(Xenc)\n",
    "\n",
    "lr = LinearRegression(fit_intercept=True)\n",
    "y_fit = np.array(y)[0:27,:]\n",
    "lr.fit(Xohenc, y_fit)\n",
    "y_pred = lr.predict(Xohenc)\n",
    "print(y_pred - y_fit)\n",
    "print(lr.coef_)"
   ]
  },
  {
   "cell_type": "code",
   "execution_count": null,
   "metadata": {
    "collapsed": true
   },
   "outputs": [],
   "source": []
  }
 ],
 "metadata": {
  "kernelspec": {
   "display_name": "Python 3",
   "language": "python",
   "name": "python3"
  },
  "language_info": {
   "codemirror_mode": {
    "name": "ipython",
    "version": 3
   },
   "file_extension": ".py",
   "mimetype": "text/x-python",
   "name": "python",
   "nbconvert_exporter": "python",
   "pygments_lexer": "ipython3",
   "version": "3.6.3"
  }
 },
 "nbformat": 4,
 "nbformat_minor": 2
}
