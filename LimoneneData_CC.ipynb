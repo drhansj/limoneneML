{
 "cells": [
  {
   "cell_type": "markdown",
   "metadata": {},
   "source": [
    "Goal is to create an ML, noise-robust control example from the PCAP data set\n",
    "\n",
    "Steps / to-dos:\n",
    "1. Get the PCA data in\n",
    "1. Try to reproduce the PCA results (2 vectors w 92%)\n",
    "1. Try to improve on it with NMF, log scaling, 2 category columns, etc.\n",
    "1. Create a noisy data set, check robustness\n",
    "1. Create a hypothetical time series (w/ noise/drift)\n",
    "1. Create a DQN to control it?"
   ]
  },
  {
   "cell_type": "code",
   "execution_count": 24,
   "metadata": {},
   "outputs": [],
   "source": [
    "%matplotlib inline\n",
    "\n",
    "import csv\n",
    "import scipy\n",
    "import seaborn\n",
    "\n",
    "import numpy as np\n",
    "import pandas as pd\n",
    "import matplotlib.pyplot as plt\n",
    "\n",
    "#Import Plotting Tools\n",
    "from metabolicModelingTools import plotModel,generateReport\n",
    "#from tuneModels import generate_test_points\n",
    "\n",
    "#Import Scikit learn functions\n",
    "from sklearn.model_selection import ShuffleSplit\n",
    "from sklearn.model_selection import cross_val_score, RandomizedSearchCV\n",
    "from sklearn.pipeline import Pipeline\n",
    "from sklearn.preprocessing import PolynomialFeatures\n",
    "from sklearn.preprocessing import StandardScaler\n",
    "from sklearn.feature_selection import RFECV,RFE\n",
    "from sklearn.decomposition import PCA\n",
    "\n",
    "#Import Models\n",
    "from sklearn.svm import SVR\n",
    "from sklearn.ensemble import BaggingRegressor, RandomForestRegressor\n",
    "from sklearn.linear_model import BayesianRidge\n",
    "from sklearn.linear_model import LinearRegression, Ridge\n",
    "from sklearn.linear_model import LassoLarsIC\n",
    "from sklearn.gaussian_process import GaussianProcessRegressor"
   ]
  },
  {
   "cell_type": "code",
   "execution_count": 25,
   "metadata": {},
   "outputs": [
    {
     "data": {
      "text/plain": [
       "(30, 14)"
      ]
     },
     "execution_count": 25,
     "metadata": {},
     "output_type": "execute_result"
    }
   ],
   "source": [
    "t_data = pd.read_csv(\"LimonenePCAPdata.csv\", index_col=0)\n",
    "#t_data = t_data[t_data.PCAPpaper != \"n\"]\n",
    "t_data.shape"
   ]
  },
  {
   "cell_type": "code",
   "execution_count": 26,
   "metadata": {},
   "outputs": [
    {
     "data": {
      "text/html": [
       "<div>\n",
       "<style>\n",
       "    .dataframe thead tr:only-child th {\n",
       "        text-align: right;\n",
       "    }\n",
       "\n",
       "    .dataframe thead th {\n",
       "        text-align: left;\n",
       "    }\n",
       "\n",
       "    .dataframe tbody tr th {\n",
       "        vertical-align: top;\n",
       "    }\n",
       "</style>\n",
       "<table border=\"1\" class=\"dataframe\">\n",
       "  <thead>\n",
       "    <tr style=\"text-align: right;\">\n",
       "      <th></th>\n",
       "      <th>Limonene</th>\n",
       "      <th>Optical Density</th>\n",
       "      <th>AtoB</th>\n",
       "      <th>PMK</th>\n",
       "      <th>idi</th>\n",
       "      <th>MK</th>\n",
       "      <th>PMD</th>\n",
       "      <th>LS</th>\n",
       "      <th>GPPS</th>\n",
       "      <th>HMGR</th>\n",
       "      <th>HMGS</th>\n",
       "      <th>InducedOD</th>\n",
       "      <th>InducerLevel</th>\n",
       "      <th>PCAPpaper</th>\n",
       "    </tr>\n",
       "    <tr>\n",
       "      <th>Line</th>\n",
       "      <th></th>\n",
       "      <th></th>\n",
       "      <th></th>\n",
       "      <th></th>\n",
       "      <th></th>\n",
       "      <th></th>\n",
       "      <th></th>\n",
       "      <th></th>\n",
       "      <th></th>\n",
       "      <th></th>\n",
       "      <th></th>\n",
       "      <th></th>\n",
       "      <th></th>\n",
       "      <th></th>\n",
       "    </tr>\n",
       "  </thead>\n",
       "  <tbody>\n",
       "    <tr>\n",
       "      <th>2X-Hh</th>\n",
       "      <td>71.05431</td>\n",
       "      <td>4.18000</td>\n",
       "      <td>0.1280</td>\n",
       "      <td>0.4947</td>\n",
       "      <td>0.9970</td>\n",
       "      <td>0.1686</td>\n",
       "      <td>0.8337</td>\n",
       "      <td>3.8485</td>\n",
       "      <td>0.3746</td>\n",
       "      <td>0.1193</td>\n",
       "      <td>0.2126</td>\n",
       "      <td>H</td>\n",
       "      <td>h</td>\n",
       "      <td>y</td>\n",
       "    </tr>\n",
       "    <tr>\n",
       "      <th>2X-Hl</th>\n",
       "      <td>2.46049</td>\n",
       "      <td>5.86600</td>\n",
       "      <td>0.0219</td>\n",
       "      <td>0.3407</td>\n",
       "      <td>1.0516</td>\n",
       "      <td>0.2256</td>\n",
       "      <td>1.0540</td>\n",
       "      <td>1.4751</td>\n",
       "      <td>0.0605</td>\n",
       "      <td>0.0280</td>\n",
       "      <td>0.0429</td>\n",
       "      <td>H</td>\n",
       "      <td>l</td>\n",
       "      <td>y</td>\n",
       "    </tr>\n",
       "    <tr>\n",
       "      <th>2X-Hm</th>\n",
       "      <td>52.13119</td>\n",
       "      <td>4.40867</td>\n",
       "      <td>0.0627</td>\n",
       "      <td>0.1899</td>\n",
       "      <td>0.9134</td>\n",
       "      <td>0.1060</td>\n",
       "      <td>0.6176</td>\n",
       "      <td>2.8899</td>\n",
       "      <td>0.1837</td>\n",
       "      <td>0.0894</td>\n",
       "      <td>0.1721</td>\n",
       "      <td>H</td>\n",
       "      <td>m</td>\n",
       "      <td>y</td>\n",
       "    </tr>\n",
       "    <tr>\n",
       "      <th>2X-Lh</th>\n",
       "      <td>53.60310</td>\n",
       "      <td>4.96467</td>\n",
       "      <td>0.2335</td>\n",
       "      <td>0.7463</td>\n",
       "      <td>2.3338</td>\n",
       "      <td>0.3196</td>\n",
       "      <td>1.7450</td>\n",
       "      <td>9.1728</td>\n",
       "      <td>0.2534</td>\n",
       "      <td>0.6998</td>\n",
       "      <td>0.6607</td>\n",
       "      <td>L</td>\n",
       "      <td>h</td>\n",
       "      <td>y</td>\n",
       "    </tr>\n",
       "    <tr>\n",
       "      <th>2X-Ll</th>\n",
       "      <td>5.98466</td>\n",
       "      <td>6.36200</td>\n",
       "      <td>0.0457</td>\n",
       "      <td>0.4691</td>\n",
       "      <td>1.5995</td>\n",
       "      <td>0.2709</td>\n",
       "      <td>1.9367</td>\n",
       "      <td>3.0677</td>\n",
       "      <td>0.1423</td>\n",
       "      <td>0.0998</td>\n",
       "      <td>0.1210</td>\n",
       "      <td>L</td>\n",
       "      <td>l</td>\n",
       "      <td>y</td>\n",
       "    </tr>\n",
       "  </tbody>\n",
       "</table>\n",
       "</div>"
      ],
      "text/plain": [
       "       Limonene  Optical Density    AtoB     PMK     idi      MK     PMD  \\\n",
       "Line                                                                       \n",
       "2X-Hh  71.05431          4.18000  0.1280  0.4947  0.9970  0.1686  0.8337   \n",
       "2X-Hl   2.46049          5.86600  0.0219  0.3407  1.0516  0.2256  1.0540   \n",
       "2X-Hm  52.13119          4.40867  0.0627  0.1899  0.9134  0.1060  0.6176   \n",
       "2X-Lh  53.60310          4.96467  0.2335  0.7463  2.3338  0.3196  1.7450   \n",
       "2X-Ll   5.98466          6.36200  0.0457  0.4691  1.5995  0.2709  1.9367   \n",
       "\n",
       "           LS    GPPS    HMGR    HMGS InducedOD InducerLevel PCAPpaper  \n",
       "Line                                                                    \n",
       "2X-Hh  3.8485  0.3746  0.1193  0.2126         H            h         y  \n",
       "2X-Hl  1.4751  0.0605  0.0280  0.0429         H            l         y  \n",
       "2X-Hm  2.8899  0.1837  0.0894  0.1721         H            m         y  \n",
       "2X-Lh  9.1728  0.2534  0.6998  0.6607         L            h         y  \n",
       "2X-Ll  3.0677  0.1423  0.0998  0.1210         L            l         y  "
      ]
     },
     "execution_count": 26,
     "metadata": {},
     "output_type": "execute_result"
    }
   ],
   "source": [
    "t_data.head(5)"
   ]
  },
  {
   "cell_type": "code",
   "execution_count": 27,
   "metadata": {},
   "outputs": [
    {
     "data": {
      "text/html": [
       "<div>\n",
       "<style>\n",
       "    .dataframe thead tr:only-child th {\n",
       "        text-align: right;\n",
       "    }\n",
       "\n",
       "    .dataframe thead th {\n",
       "        text-align: left;\n",
       "    }\n",
       "\n",
       "    .dataframe tbody tr th {\n",
       "        vertical-align: top;\n",
       "    }\n",
       "</style>\n",
       "<table border=\"1\" class=\"dataframe\">\n",
       "  <thead>\n",
       "    <tr style=\"text-align: right;\">\n",
       "      <th></th>\n",
       "      <th>AtoB</th>\n",
       "      <th>PMK</th>\n",
       "      <th>idi</th>\n",
       "      <th>MK</th>\n",
       "      <th>PMD</th>\n",
       "      <th>LS</th>\n",
       "      <th>GPPS</th>\n",
       "      <th>HMGR</th>\n",
       "      <th>HMGS</th>\n",
       "      <th>InducedOD</th>\n",
       "      <th>InducerLevel</th>\n",
       "    </tr>\n",
       "    <tr>\n",
       "      <th>Line</th>\n",
       "      <th></th>\n",
       "      <th></th>\n",
       "      <th></th>\n",
       "      <th></th>\n",
       "      <th></th>\n",
       "      <th></th>\n",
       "      <th></th>\n",
       "      <th></th>\n",
       "      <th></th>\n",
       "      <th></th>\n",
       "      <th></th>\n",
       "    </tr>\n",
       "  </thead>\n",
       "  <tbody>\n",
       "    <tr>\n",
       "      <th>2X-Hh</th>\n",
       "      <td>0.1280</td>\n",
       "      <td>0.4947</td>\n",
       "      <td>0.9970</td>\n",
       "      <td>0.1686</td>\n",
       "      <td>0.8337</td>\n",
       "      <td>3.8485</td>\n",
       "      <td>0.3746</td>\n",
       "      <td>0.1193</td>\n",
       "      <td>0.2126</td>\n",
       "      <td>H</td>\n",
       "      <td>h</td>\n",
       "    </tr>\n",
       "    <tr>\n",
       "      <th>2X-Hl</th>\n",
       "      <td>0.0219</td>\n",
       "      <td>0.3407</td>\n",
       "      <td>1.0516</td>\n",
       "      <td>0.2256</td>\n",
       "      <td>1.0540</td>\n",
       "      <td>1.4751</td>\n",
       "      <td>0.0605</td>\n",
       "      <td>0.0280</td>\n",
       "      <td>0.0429</td>\n",
       "      <td>H</td>\n",
       "      <td>l</td>\n",
       "    </tr>\n",
       "    <tr>\n",
       "      <th>2X-Hm</th>\n",
       "      <td>0.0627</td>\n",
       "      <td>0.1899</td>\n",
       "      <td>0.9134</td>\n",
       "      <td>0.1060</td>\n",
       "      <td>0.6176</td>\n",
       "      <td>2.8899</td>\n",
       "      <td>0.1837</td>\n",
       "      <td>0.0894</td>\n",
       "      <td>0.1721</td>\n",
       "      <td>H</td>\n",
       "      <td>m</td>\n",
       "    </tr>\n",
       "    <tr>\n",
       "      <th>2X-Lh</th>\n",
       "      <td>0.2335</td>\n",
       "      <td>0.7463</td>\n",
       "      <td>2.3338</td>\n",
       "      <td>0.3196</td>\n",
       "      <td>1.7450</td>\n",
       "      <td>9.1728</td>\n",
       "      <td>0.2534</td>\n",
       "      <td>0.6998</td>\n",
       "      <td>0.6607</td>\n",
       "      <td>L</td>\n",
       "      <td>h</td>\n",
       "    </tr>\n",
       "    <tr>\n",
       "      <th>2X-Ll</th>\n",
       "      <td>0.0457</td>\n",
       "      <td>0.4691</td>\n",
       "      <td>1.5995</td>\n",
       "      <td>0.2709</td>\n",
       "      <td>1.9367</td>\n",
       "      <td>3.0677</td>\n",
       "      <td>0.1423</td>\n",
       "      <td>0.0998</td>\n",
       "      <td>0.1210</td>\n",
       "      <td>L</td>\n",
       "      <td>l</td>\n",
       "    </tr>\n",
       "  </tbody>\n",
       "</table>\n",
       "</div>"
      ],
      "text/plain": [
       "         AtoB     PMK     idi      MK     PMD      LS    GPPS    HMGR    HMGS  \\\n",
       "Line                                                                            \n",
       "2X-Hh  0.1280  0.4947  0.9970  0.1686  0.8337  3.8485  0.3746  0.1193  0.2126   \n",
       "2X-Hl  0.0219  0.3407  1.0516  0.2256  1.0540  1.4751  0.0605  0.0280  0.0429   \n",
       "2X-Hm  0.0627  0.1899  0.9134  0.1060  0.6176  2.8899  0.1837  0.0894  0.1721   \n",
       "2X-Lh  0.2335  0.7463  2.3338  0.3196  1.7450  9.1728  0.2534  0.6998  0.6607   \n",
       "2X-Ll  0.0457  0.4691  1.5995  0.2709  1.9367  3.0677  0.1423  0.0998  0.1210   \n",
       "\n",
       "      InducedOD InducerLevel  \n",
       "Line                          \n",
       "2X-Hh         H            h  \n",
       "2X-Hl         H            l  \n",
       "2X-Hm         H            m  \n",
       "2X-Lh         L            h  \n",
       "2X-Ll         L            l  "
      ]
     },
     "execution_count": 27,
     "metadata": {},
     "output_type": "execute_result"
    }
   ],
   "source": [
    "X = t_data.drop(['Limonene','Optical Density', 'PCAPpaper'], axis=1)\n",
    "y = t_data['Limonene']\n",
    "X.head(5)"
   ]
  },
  {
   "cell_type": "code",
   "execution_count": 28,
   "metadata": {
    "collapsed": true
   },
   "outputs": [],
   "source": [
    "from sklearn.preprocessing import LabelEncoder\n",
    "le_OD = LabelEncoder()\n",
    "le_ind = LabelEncoder()\n",
    "X['OD_encoded'] = le_OD.fit_transform(X.InducedOD)\n",
    "X['ind_encoded'] = le_ind.fit_transform(X.InducerLevel)"
   ]
  },
  {
   "cell_type": "code",
   "execution_count": 29,
   "metadata": {
    "collapsed": true
   },
   "outputs": [],
   "source": [
    "X = X.drop(['InducedOD', 'InducerLevel'], axis = 1)"
   ]
  },
  {
   "cell_type": "code",
   "execution_count": 30,
   "metadata": {},
   "outputs": [
    {
     "data": {
      "text/html": [
       "<div>\n",
       "<style>\n",
       "    .dataframe thead tr:only-child th {\n",
       "        text-align: right;\n",
       "    }\n",
       "\n",
       "    .dataframe thead th {\n",
       "        text-align: left;\n",
       "    }\n",
       "\n",
       "    .dataframe tbody tr th {\n",
       "        vertical-align: top;\n",
       "    }\n",
       "</style>\n",
       "<table border=\"1\" class=\"dataframe\">\n",
       "  <thead>\n",
       "    <tr style=\"text-align: right;\">\n",
       "      <th></th>\n",
       "      <th>AtoB</th>\n",
       "      <th>PMK</th>\n",
       "      <th>idi</th>\n",
       "      <th>MK</th>\n",
       "      <th>PMD</th>\n",
       "      <th>LS</th>\n",
       "      <th>GPPS</th>\n",
       "      <th>HMGR</th>\n",
       "      <th>HMGS</th>\n",
       "      <th>OD_encoded</th>\n",
       "      <th>ind_encoded</th>\n",
       "    </tr>\n",
       "    <tr>\n",
       "      <th>Line</th>\n",
       "      <th></th>\n",
       "      <th></th>\n",
       "      <th></th>\n",
       "      <th></th>\n",
       "      <th></th>\n",
       "      <th></th>\n",
       "      <th></th>\n",
       "      <th></th>\n",
       "      <th></th>\n",
       "      <th></th>\n",
       "      <th></th>\n",
       "    </tr>\n",
       "  </thead>\n",
       "  <tbody>\n",
       "    <tr>\n",
       "      <th>2X-Hh</th>\n",
       "      <td>0.1280</td>\n",
       "      <td>0.4947</td>\n",
       "      <td>0.9970</td>\n",
       "      <td>0.1686</td>\n",
       "      <td>0.8337</td>\n",
       "      <td>3.8485</td>\n",
       "      <td>0.3746</td>\n",
       "      <td>0.1193</td>\n",
       "      <td>0.2126</td>\n",
       "      <td>0</td>\n",
       "      <td>0</td>\n",
       "    </tr>\n",
       "    <tr>\n",
       "      <th>2X-Hl</th>\n",
       "      <td>0.0219</td>\n",
       "      <td>0.3407</td>\n",
       "      <td>1.0516</td>\n",
       "      <td>0.2256</td>\n",
       "      <td>1.0540</td>\n",
       "      <td>1.4751</td>\n",
       "      <td>0.0605</td>\n",
       "      <td>0.0280</td>\n",
       "      <td>0.0429</td>\n",
       "      <td>0</td>\n",
       "      <td>1</td>\n",
       "    </tr>\n",
       "    <tr>\n",
       "      <th>2X-Hm</th>\n",
       "      <td>0.0627</td>\n",
       "      <td>0.1899</td>\n",
       "      <td>0.9134</td>\n",
       "      <td>0.1060</td>\n",
       "      <td>0.6176</td>\n",
       "      <td>2.8899</td>\n",
       "      <td>0.1837</td>\n",
       "      <td>0.0894</td>\n",
       "      <td>0.1721</td>\n",
       "      <td>0</td>\n",
       "      <td>2</td>\n",
       "    </tr>\n",
       "    <tr>\n",
       "      <th>2X-Lh</th>\n",
       "      <td>0.2335</td>\n",
       "      <td>0.7463</td>\n",
       "      <td>2.3338</td>\n",
       "      <td>0.3196</td>\n",
       "      <td>1.7450</td>\n",
       "      <td>9.1728</td>\n",
       "      <td>0.2534</td>\n",
       "      <td>0.6998</td>\n",
       "      <td>0.6607</td>\n",
       "      <td>1</td>\n",
       "      <td>0</td>\n",
       "    </tr>\n",
       "    <tr>\n",
       "      <th>2X-Ll</th>\n",
       "      <td>0.0457</td>\n",
       "      <td>0.4691</td>\n",
       "      <td>1.5995</td>\n",
       "      <td>0.2709</td>\n",
       "      <td>1.9367</td>\n",
       "      <td>3.0677</td>\n",
       "      <td>0.1423</td>\n",
       "      <td>0.0998</td>\n",
       "      <td>0.1210</td>\n",
       "      <td>1</td>\n",
       "      <td>1</td>\n",
       "    </tr>\n",
       "  </tbody>\n",
       "</table>\n",
       "</div>"
      ],
      "text/plain": [
       "         AtoB     PMK     idi      MK     PMD      LS    GPPS    HMGR    HMGS  \\\n",
       "Line                                                                            \n",
       "2X-Hh  0.1280  0.4947  0.9970  0.1686  0.8337  3.8485  0.3746  0.1193  0.2126   \n",
       "2X-Hl  0.0219  0.3407  1.0516  0.2256  1.0540  1.4751  0.0605  0.0280  0.0429   \n",
       "2X-Hm  0.0627  0.1899  0.9134  0.1060  0.6176  2.8899  0.1837  0.0894  0.1721   \n",
       "2X-Lh  0.2335  0.7463  2.3338  0.3196  1.7450  9.1728  0.2534  0.6998  0.6607   \n",
       "2X-Ll  0.0457  0.4691  1.5995  0.2709  1.9367  3.0677  0.1423  0.0998  0.1210   \n",
       "\n",
       "       OD_encoded  ind_encoded  \n",
       "Line                            \n",
       "2X-Hh           0            0  \n",
       "2X-Hl           0            1  \n",
       "2X-Hm           0            2  \n",
       "2X-Lh           1            0  \n",
       "2X-Ll           1            1  "
      ]
     },
     "execution_count": 30,
     "metadata": {},
     "output_type": "execute_result"
    }
   ],
   "source": [
    "X.head()"
   ]
  },
  {
   "cell_type": "code",
   "execution_count": 31,
   "metadata": {
    "collapsed": true
   },
   "outputs": [],
   "source": [
    "from sklearn.preprocessing import OneHotEncoder\n",
    "X1 = OneHotEncoder(sparse = False, categorical_features = [9, 10]).fit_transform(X)"
   ]
  },
  {
   "cell_type": "code",
   "execution_count": 86,
   "metadata": {},
   "outputs": [],
   "source": [
    "X1\n",
    "X2 = np.array(X1).tolist()"
   ]
  },
  {
   "cell_type": "code",
   "execution_count": 33,
   "metadata": {},
   "outputs": [
    {
     "data": {
      "image/png": "[encoded data removed]",
      "text/plain": [
       "<matplotlib.figure.Figure at 0x1a1d0be2b0>"
      ]
     },
     "metadata": {},
     "output_type": "display_data"
    }
   ],
   "source": [
    "#PCA analysis\n",
    "limonene_pca = PCA(n_components=2)\n",
    "transformed_points = limonene_pca.fit_transform(X2[0:27])\n",
    "    \n",
    "transformed_x = [-1*point[0] for point in transformed_points]\n",
    "transformed_y = [point[1] for point in transformed_points]\n",
    "\n",
    "new_transformed_points = limonene_pca.transform(X2[27:])\n",
    "new_transformed_x = [-1*point[0] for point in new_transformed_points]\n",
    "new_transformed_y = [point[1] for point in new_transformed_points]\n",
    "\n",
    "principal_components = limonene_pca.components_\n",
    "principal_components[0] = [-1*value for value in principal_components[0]]\n",
    "    #print(principal_components)\n",
    "    \n",
    "    #Plot Using Seaborn...\n",
    "y_scaled = [item/max(y)*400 for item in y]\n",
    "plt.scatter(transformed_x,transformed_y,marker='+',s=y_scaled[0:27],linewidths=1)\n",
    "plt.scatter(new_transformed_x,new_transformed_y,color='red',marker='+',s=y_scaled[27:],linewidths=1)\n",
    "plt.show()"
   ]
  },
  {
   "cell_type": "code",
   "execution_count": 34,
   "metadata": {},
   "outputs": [
    {
     "data": {
      "image/png": "[encoded data removed]",
      "text/plain": [
       "<matplotlib.figure.Figure at 0x1a1d9f3c50>"
      ]
     },
     "metadata": {},
     "output_type": "display_data"
    }
   ],
   "source": [
    "pca = PCA().fit(X2[0:27])\n",
    "plt.plot(np.cumsum(pca.explained_variance_ratio_))\n",
    "plt.xlabel('number of components')\n",
    "plt.ylabel('cumulative explained variance');"
   ]
  },
  {
   "cell_type": "code",
   "execution_count": 35,
   "metadata": {},
   "outputs": [
    {
     "data": {
      "image/png": "[encoded data removed]",
      "text/plain": [
       "<matplotlib.figure.Figure at 0x1a1d070668>"
      ]
     },
     "metadata": {},
     "output_type": "display_data"
    }
   ],
   "source": [
    "#NMF\n",
    "from sklearn.decomposition import NMF\n",
    "limonene_nmf = NMF(n_components=2, init='random', random_state=0)\n",
    "transformed_points = limonene_nmf.fit_transform(X2[0:27])\n",
    "    \n",
    "transformed_x = [-1*point[0] for point in transformed_points]\n",
    "transformed_y = [point[1] for point in transformed_points]\n",
    "\n",
    "new_transformed_points = limonene_nmf.transform(X2[27:])\n",
    "new_transformed_x = [-1*point[0] for point in new_transformed_points]\n",
    "new_transformed_y = [point[1] for point in new_transformed_points]\n",
    "\n",
    "nmf_components = limonene_nmf.components_\n",
    "nmf_components[0] = [-1*value for value in principal_components[0]]\n",
    "       \n",
    "    #Plot Using Seaborn...\n",
    "y_scaled = [item/max(y)*400 for item in y]\n",
    "plt.scatter(transformed_x,transformed_y,marker='+',s=y_scaled[0:27],linewidths=1)\n",
    "plt.scatter(new_transformed_x,new_transformed_y,color='red',marker='+',s=y_scaled[27:],linewidths=1)\n",
    "plt.show()"
   ]
  },
  {
   "cell_type": "code",
   "execution_count": 36,
   "metadata": {
    "collapsed": true
   },
   "outputs": [],
   "source": []
  },
  {
   "cell_type": "code",
   "execution_count": 93,
   "metadata": {},
   "outputs": [
    {
     "name": "stdout",
     "output_type": "stream",
     "text": [
      "(27, 15)\n",
      "(27, 15)\n"
     ]
    }
   ],
   "source": [
    "import numpy.random as rand\n",
    "\n",
    "# Add some noise to X2\n",
    "X3 = X2[0:27]\n",
    "N = rand.normal(scale=.0,size=np.shape(X3)) + np.ones(shape=np.shape(X3))\n",
    "print(np.shape(N))\n",
    "print(np.shape(X2[0:27]))\n",
    "N[:,0:6] = 1\n",
    "# print(N)\n",
    "X3 = N * X3\n",
    "# print(np.shape(X3))\n",
    "# print(X3)"
   ]
  },
  {
   "cell_type": "code",
   "execution_count": 94,
   "metadata": {},
   "outputs": [
    {
     "data": {
      "image/png": "[encoded data removed]",
      "text/plain": [
       "<matplotlib.figure.Figure at 0x1a1c7cf048>"
      ]
     },
     "metadata": {},
     "output_type": "display_data"
    }
   ],
   "source": [
    "#NMF\n",
    "from sklearn.decomposition import NMF\n",
    "limonene_nmf = NMF(n_components=2, init='random', random_state=0)\n",
    "transformed_points = limonene_nmf.fit_transform(X3)\n",
    "    \n",
    "transformed_x = [-1*point[0] for point in transformed_points]\n",
    "transformed_y = [point[1] for point in transformed_points]\n",
    "\n",
    "new_transformed_points = limonene_nmf.transform(X2[27:])\n",
    "new_transformed_x = [-1*point[0] for point in new_transformed_points]\n",
    "new_transformed_y = [point[1] for point in new_transformed_points]\n",
    "\n",
    "nmf_components = limonene_nmf.components_\n",
    "nmf_components[0] = [-1*value for value in principal_components[0]]\n",
    "       \n",
    "    #Plot Using Seaborn...\n",
    "y_scaled = [item/max(y)*400 for item in y]\n",
    "plt.scatter(transformed_x,transformed_y,marker='+',s=y_scaled[0:27],linewidths=1)\n",
    "plt.scatter(new_transformed_x,new_transformed_y,color='red',marker='+',s=y_scaled[27:],linewidths=1)\n",
    "plt.show()"
   ]
  },
  {
   "cell_type": "code",
   "execution_count": 60,
   "metadata": {
    "collapsed": true
   },
   "outputs": [],
   "source": [
    "score = 'r2' #Use R^2 as model scoring metric\n",
    "#score = None\n",
    "cv=ShuffleSplit(n_splits=10) \n",
    "#cv=None"
   ]
  },
  {
   "cell_type": "code",
   "execution_count": 61,
   "metadata": {
    "collapsed": true
   },
   "outputs": [],
   "source": [
    "#Define and Add Brians Regressor\n",
    "#\"preprocessing\": {\"__dtype\":\"cys.model.StandardScaler\"}\n",
    "#\"algorithm\":{\"__dtype\":\"cys.model.LinearRegressionEnsemble\", \"n_estimators\":1000,\"random_state\":null}\n",
    "#\"feature_selection\":{\"__dtype\":\"cys.model.RFE\", \"degree\":2,\"interaction_only\":true,\"thresh\":0.95,\"include_bias\":true}\n",
    "\n",
    "polynomialRegressor = Pipeline([('Scaler',StandardScaler()),\n",
    "                                ('Polynomial Features',PolynomialFeatures(degree=2, include_bias=True, interaction_only=True)),\n",
    "                                ('Feature Reduction',RFECV(Ridge(),cv=cv, scoring=score)),\n",
    "                                ('Linear Regressor',BaggingRegressor(base_estimator=Ridge(),\n",
    "                                                                     n_estimators=100, max_samples=.8,\n",
    "                                                                     bootstrap=False,\n",
    "                                                                     bootstrap_features=False,\n",
    "                                                                     random_state=None))])\n",
    "\n",
    "supportVectorRegressor = Pipeline([('Scaler',StandardScaler()),\n",
    "                                   ('SVR',SVR())])\n",
    "\n",
    "models = {'Support Vector Regressor':supportVectorRegressor,\n",
    "          'Random Forest Regressor':RandomForestRegressor(),\n",
    "          'Linear Regressor':LassoLarsIC(),\n",
    "          'Polynomial Regressor':polynomialRegressor,\n",
    "          'Gaussian Process Regressor':GaussianProcessRegressor()}"
   ]
  },
  {
   "cell_type": "code",
   "execution_count": 63,
   "metadata": {},
   "outputs": [
    {
     "ename": "ValueError",
     "evalue": "Invalid parameter SVR for estimator RandomizedSearchCV(cv=ShuffleSplit(n_splits=10, random_state=None, test_size='default',\n       train_size=None),\n          error_score='raise',\n          estimator=Pipeline(memory=None,\n     steps=[('Scaler', StandardScaler(copy=True, with_mean=True, with_std=True)), ('SVR', SVR(C=1.0, cache_size=200, coef0=0.0, degree=3, epsilon=0.1, gamma='auto',\n  kernel='rbf', max_iter=-1, shrinking=True, tol=0.001, verbose=False))]),\n          fit_params=None, iid=True, n_iter=25, n_jobs=1,\n          param_distributions={'SVR__C': <scipy.stats._distn_infrastructure.rv_frozen object at 0x1a1d95eda0>, 'SVR__gamma': <scipy.stats._distn_infrastructure.rv_frozen object at 0x1a1d95e3c8>, 'SVR__kernel': ['rbf']},\n          pre_dispatch='2*n_jobs', random_state=None, refit=True,\n          return_train_score='warn', scoring='r2', verbose=0). Check the list of available parameters with `estimator.get_params().keys()`.",
     "output_type": "error",
     "traceback": [
      "\u001b[0;31m---------------------------------------------------------------------------\u001b[0m",
      "\u001b[0;31mValueError\u001b[0m                                Traceback (most recent call last)",
      "\u001b[0;32m<ipython-input-63-b018e214c831>\u001b[0m in \u001b[0;36m<module>\u001b[0;34m()\u001b[0m\n\u001b[1;32m     13\u001b[0m                                        \u001b[0mscoring\u001b[0m\u001b[0;34m=\u001b[0m\u001b[0mscore\u001b[0m\u001b[0;34m,\u001b[0m\u001b[0;34m\u001b[0m\u001b[0m\n\u001b[1;32m     14\u001b[0m                                        \u001b[0mfit_params\u001b[0m\u001b[0;34m=\u001b[0m\u001b[0;32mNone\u001b[0m\u001b[0;34m,\u001b[0m\u001b[0;34m\u001b[0m\u001b[0m\n\u001b[0;32m---> 15\u001b[0;31m                                        cv=cv).fit(X2,y)\n\u001b[0m",
      "\u001b[0;32m~/anaconda3/lib/python3.6/site-packages/sklearn/model_selection/_search.py\u001b[0m in \u001b[0;36mfit\u001b[0;34m(self, X, y, groups, **fit_params)\u001b[0m\n\u001b[1;32m    637\u001b[0m                                   error_score=self.error_score)\n\u001b[1;32m    638\u001b[0m           for parameters, (train, test) in product(candidate_params,\n\u001b[0;32m--> 639\u001b[0;31m                                                    cv.split(X, y, groups)))\n\u001b[0m\u001b[1;32m    640\u001b[0m \u001b[0;34m\u001b[0m\u001b[0m\n\u001b[1;32m    641\u001b[0m         \u001b[0;31m# if one choose to see train score, \"out\" will contain train score info\u001b[0m\u001b[0;34m\u001b[0m\u001b[0;34m\u001b[0m\u001b[0m\n",
      "\u001b[0;32m~/anaconda3/lib/python3.6/site-packages/sklearn/externals/joblib/parallel.py\u001b[0m in \u001b[0;36m__call__\u001b[0;34m(self, iterable)\u001b[0m\n\u001b[1;32m    777\u001b[0m             \u001b[0;31m# was dispatched. In particular this covers the edge\u001b[0m\u001b[0;34m\u001b[0m\u001b[0;34m\u001b[0m\u001b[0m\n\u001b[1;32m    778\u001b[0m             \u001b[0;31m# case of Parallel used with an exhausted iterator.\u001b[0m\u001b[0;34m\u001b[0m\u001b[0;34m\u001b[0m\u001b[0m\n\u001b[0;32m--> 779\u001b[0;31m             \u001b[0;32mwhile\u001b[0m \u001b[0mself\u001b[0m\u001b[0;34m.\u001b[0m\u001b[0mdispatch_one_batch\u001b[0m\u001b[0;34m(\u001b[0m\u001b[0miterator\u001b[0m\u001b[0;34m)\u001b[0m\u001b[0;34m:\u001b[0m\u001b[0;34m\u001b[0m\u001b[0m\n\u001b[0m\u001b[1;32m    780\u001b[0m                 \u001b[0mself\u001b[0m\u001b[0;34m.\u001b[0m\u001b[0m_iterating\u001b[0m \u001b[0;34m=\u001b[0m \u001b[0;32mTrue\u001b[0m\u001b[0;34m\u001b[0m\u001b[0m\n\u001b[1;32m    781\u001b[0m             \u001b[0;32melse\u001b[0m\u001b[0;34m:\u001b[0m\u001b[0;34m\u001b[0m\u001b[0m\n",
      "\u001b[0;32m~/anaconda3/lib/python3.6/site-packages/sklearn/externals/joblib/parallel.py\u001b[0m in \u001b[0;36mdispatch_one_batch\u001b[0;34m(self, iterator)\u001b[0m\n\u001b[1;32m    623\u001b[0m                 \u001b[0;32mreturn\u001b[0m \u001b[0;32mFalse\u001b[0m\u001b[0;34m\u001b[0m\u001b[0m\n\u001b[1;32m    624\u001b[0m             \u001b[0;32melse\u001b[0m\u001b[0;34m:\u001b[0m\u001b[0;34m\u001b[0m\u001b[0m\n\u001b[0;32m--> 625\u001b[0;31m                 \u001b[0mself\u001b[0m\u001b[0;34m.\u001b[0m\u001b[0m_dispatch\u001b[0m\u001b[0;34m(\u001b[0m\u001b[0mtasks\u001b[0m\u001b[0;34m)\u001b[0m\u001b[0;34m\u001b[0m\u001b[0m\n\u001b[0m\u001b[1;32m    626\u001b[0m                 \u001b[0;32mreturn\u001b[0m \u001b[0;32mTrue\u001b[0m\u001b[0;34m\u001b[0m\u001b[0m\n\u001b[1;32m    627\u001b[0m \u001b[0;34m\u001b[0m\u001b[0m\n",
      "\u001b[0;32m~/anaconda3/lib/python3.6/site-packages/sklearn/externals/joblib/parallel.py\u001b[0m in \u001b[0;36m_dispatch\u001b[0;34m(self, batch)\u001b[0m\n\u001b[1;32m    586\u001b[0m         \u001b[0mdispatch_timestamp\u001b[0m \u001b[0;34m=\u001b[0m \u001b[0mtime\u001b[0m\u001b[0;34m.\u001b[0m\u001b[0mtime\u001b[0m\u001b[0;34m(\u001b[0m\u001b[0;34m)\u001b[0m\u001b[0;34m\u001b[0m\u001b[0m\n\u001b[1;32m    587\u001b[0m         \u001b[0mcb\u001b[0m \u001b[0;34m=\u001b[0m \u001b[0mBatchCompletionCallBack\u001b[0m\u001b[0;34m(\u001b[0m\u001b[0mdispatch_timestamp\u001b[0m\u001b[0;34m,\u001b[0m \u001b[0mlen\u001b[0m\u001b[0;34m(\u001b[0m\u001b[0mbatch\u001b[0m\u001b[0;34m)\u001b[0m\u001b[0;34m,\u001b[0m \u001b[0mself\u001b[0m\u001b[0;34m)\u001b[0m\u001b[0;34m\u001b[0m\u001b[0m\n\u001b[0;32m--> 588\u001b[0;31m         \u001b[0mjob\u001b[0m \u001b[0;34m=\u001b[0m \u001b[0mself\u001b[0m\u001b[0;34m.\u001b[0m\u001b[0m_backend\u001b[0m\u001b[0;34m.\u001b[0m\u001b[0mapply_async\u001b[0m\u001b[0;34m(\u001b[0m\u001b[0mbatch\u001b[0m\u001b[0;34m,\u001b[0m \u001b[0mcallback\u001b[0m\u001b[0;34m=\u001b[0m\u001b[0mcb\u001b[0m\u001b[0;34m)\u001b[0m\u001b[0;34m\u001b[0m\u001b[0m\n\u001b[0m\u001b[1;32m    589\u001b[0m         \u001b[0mself\u001b[0m\u001b[0;34m.\u001b[0m\u001b[0m_jobs\u001b[0m\u001b[0;34m.\u001b[0m\u001b[0mappend\u001b[0m\u001b[0;34m(\u001b[0m\u001b[0mjob\u001b[0m\u001b[0;34m)\u001b[0m\u001b[0;34m\u001b[0m\u001b[0m\n\u001b[1;32m    590\u001b[0m \u001b[0;34m\u001b[0m\u001b[0m\n",
      "\u001b[0;32m~/anaconda3/lib/python3.6/site-packages/sklearn/externals/joblib/_parallel_backends.py\u001b[0m in \u001b[0;36mapply_async\u001b[0;34m(self, func, callback)\u001b[0m\n\u001b[1;32m    109\u001b[0m     \u001b[0;32mdef\u001b[0m \u001b[0mapply_async\u001b[0m\u001b[0;34m(\u001b[0m\u001b[0mself\u001b[0m\u001b[0;34m,\u001b[0m \u001b[0mfunc\u001b[0m\u001b[0;34m,\u001b[0m \u001b[0mcallback\u001b[0m\u001b[0;34m=\u001b[0m\u001b[0;32mNone\u001b[0m\u001b[0;34m)\u001b[0m\u001b[0;34m:\u001b[0m\u001b[0;34m\u001b[0m\u001b[0m\n\u001b[1;32m    110\u001b[0m         \u001b[0;34m\"\"\"Schedule a func to be run\"\"\"\u001b[0m\u001b[0;34m\u001b[0m\u001b[0m\n\u001b[0;32m--> 111\u001b[0;31m         \u001b[0mresult\u001b[0m \u001b[0;34m=\u001b[0m \u001b[0mImmediateResult\u001b[0m\u001b[0;34m(\u001b[0m\u001b[0mfunc\u001b[0m\u001b[0;34m)\u001b[0m\u001b[0;34m\u001b[0m\u001b[0m\n\u001b[0m\u001b[1;32m    112\u001b[0m         \u001b[0;32mif\u001b[0m \u001b[0mcallback\u001b[0m\u001b[0;34m:\u001b[0m\u001b[0;34m\u001b[0m\u001b[0m\n\u001b[1;32m    113\u001b[0m             \u001b[0mcallback\u001b[0m\u001b[0;34m(\u001b[0m\u001b[0mresult\u001b[0m\u001b[0;34m)\u001b[0m\u001b[0;34m\u001b[0m\u001b[0m\n",
      "\u001b[0;32m~/anaconda3/lib/python3.6/site-packages/sklearn/externals/joblib/_parallel_backends.py\u001b[0m in \u001b[0;36m__init__\u001b[0;34m(self, batch)\u001b[0m\n\u001b[1;32m    330\u001b[0m         \u001b[0;31m# Don't delay the application, to avoid keeping the input\u001b[0m\u001b[0;34m\u001b[0m\u001b[0;34m\u001b[0m\u001b[0m\n\u001b[1;32m    331\u001b[0m         \u001b[0;31m# arguments in memory\u001b[0m\u001b[0;34m\u001b[0m\u001b[0;34m\u001b[0m\u001b[0m\n\u001b[0;32m--> 332\u001b[0;31m         \u001b[0mself\u001b[0m\u001b[0;34m.\u001b[0m\u001b[0mresults\u001b[0m \u001b[0;34m=\u001b[0m \u001b[0mbatch\u001b[0m\u001b[0;34m(\u001b[0m\u001b[0;34m)\u001b[0m\u001b[0;34m\u001b[0m\u001b[0m\n\u001b[0m\u001b[1;32m    333\u001b[0m \u001b[0;34m\u001b[0m\u001b[0m\n\u001b[1;32m    334\u001b[0m     \u001b[0;32mdef\u001b[0m \u001b[0mget\u001b[0m\u001b[0;34m(\u001b[0m\u001b[0mself\u001b[0m\u001b[0;34m)\u001b[0m\u001b[0;34m:\u001b[0m\u001b[0;34m\u001b[0m\u001b[0m\n",
      "\u001b[0;32m~/anaconda3/lib/python3.6/site-packages/sklearn/externals/joblib/parallel.py\u001b[0m in \u001b[0;36m__call__\u001b[0;34m(self)\u001b[0m\n\u001b[1;32m    129\u001b[0m \u001b[0;34m\u001b[0m\u001b[0m\n\u001b[1;32m    130\u001b[0m     \u001b[0;32mdef\u001b[0m \u001b[0m__call__\u001b[0m\u001b[0;34m(\u001b[0m\u001b[0mself\u001b[0m\u001b[0;34m)\u001b[0m\u001b[0;34m:\u001b[0m\u001b[0;34m\u001b[0m\u001b[0m\n\u001b[0;32m--> 131\u001b[0;31m         \u001b[0;32mreturn\u001b[0m \u001b[0;34m[\u001b[0m\u001b[0mfunc\u001b[0m\u001b[0;34m(\u001b[0m\u001b[0;34m*\u001b[0m\u001b[0margs\u001b[0m\u001b[0;34m,\u001b[0m \u001b[0;34m**\u001b[0m\u001b[0mkwargs\u001b[0m\u001b[0;34m)\u001b[0m \u001b[0;32mfor\u001b[0m \u001b[0mfunc\u001b[0m\u001b[0;34m,\u001b[0m \u001b[0margs\u001b[0m\u001b[0;34m,\u001b[0m \u001b[0mkwargs\u001b[0m \u001b[0;32min\u001b[0m \u001b[0mself\u001b[0m\u001b[0;34m.\u001b[0m\u001b[0mitems\u001b[0m\u001b[0;34m]\u001b[0m\u001b[0;34m\u001b[0m\u001b[0m\n\u001b[0m\u001b[1;32m    132\u001b[0m \u001b[0;34m\u001b[0m\u001b[0m\n\u001b[1;32m    133\u001b[0m     \u001b[0;32mdef\u001b[0m \u001b[0m__len__\u001b[0m\u001b[0;34m(\u001b[0m\u001b[0mself\u001b[0m\u001b[0;34m)\u001b[0m\u001b[0;34m:\u001b[0m\u001b[0;34m\u001b[0m\u001b[0m\n",
      "\u001b[0;32m~/anaconda3/lib/python3.6/site-packages/sklearn/externals/joblib/parallel.py\u001b[0m in \u001b[0;36m<listcomp>\u001b[0;34m(.0)\u001b[0m\n\u001b[1;32m    129\u001b[0m \u001b[0;34m\u001b[0m\u001b[0m\n\u001b[1;32m    130\u001b[0m     \u001b[0;32mdef\u001b[0m \u001b[0m__call__\u001b[0m\u001b[0;34m(\u001b[0m\u001b[0mself\u001b[0m\u001b[0;34m)\u001b[0m\u001b[0;34m:\u001b[0m\u001b[0;34m\u001b[0m\u001b[0m\n\u001b[0;32m--> 131\u001b[0;31m         \u001b[0;32mreturn\u001b[0m \u001b[0;34m[\u001b[0m\u001b[0mfunc\u001b[0m\u001b[0;34m(\u001b[0m\u001b[0;34m*\u001b[0m\u001b[0margs\u001b[0m\u001b[0;34m,\u001b[0m \u001b[0;34m**\u001b[0m\u001b[0mkwargs\u001b[0m\u001b[0;34m)\u001b[0m \u001b[0;32mfor\u001b[0m \u001b[0mfunc\u001b[0m\u001b[0;34m,\u001b[0m \u001b[0margs\u001b[0m\u001b[0;34m,\u001b[0m \u001b[0mkwargs\u001b[0m \u001b[0;32min\u001b[0m \u001b[0mself\u001b[0m\u001b[0;34m.\u001b[0m\u001b[0mitems\u001b[0m\u001b[0;34m]\u001b[0m\u001b[0;34m\u001b[0m\u001b[0m\n\u001b[0m\u001b[1;32m    132\u001b[0m \u001b[0;34m\u001b[0m\u001b[0m\n\u001b[1;32m    133\u001b[0m     \u001b[0;32mdef\u001b[0m \u001b[0m__len__\u001b[0m\u001b[0;34m(\u001b[0m\u001b[0mself\u001b[0m\u001b[0;34m)\u001b[0m\u001b[0;34m:\u001b[0m\u001b[0;34m\u001b[0m\u001b[0m\n",
      "\u001b[0;32m~/anaconda3/lib/python3.6/site-packages/sklearn/model_selection/_validation.py\u001b[0m in \u001b[0;36m_fit_and_score\u001b[0;34m(estimator, X, y, scorer, train, test, verbose, parameters, fit_params, return_train_score, return_parameters, return_n_test_samples, return_times, error_score)\u001b[0m\n\u001b[1;32m    442\u001b[0m     \u001b[0mtrain_scores\u001b[0m \u001b[0;34m=\u001b[0m \u001b[0;34m{\u001b[0m\u001b[0;34m}\u001b[0m\u001b[0;34m\u001b[0m\u001b[0m\n\u001b[1;32m    443\u001b[0m     \u001b[0;32mif\u001b[0m \u001b[0mparameters\u001b[0m \u001b[0;32mis\u001b[0m \u001b[0;32mnot\u001b[0m \u001b[0;32mNone\u001b[0m\u001b[0;34m:\u001b[0m\u001b[0;34m\u001b[0m\u001b[0m\n\u001b[0;32m--> 444\u001b[0;31m         \u001b[0mestimator\u001b[0m\u001b[0;34m.\u001b[0m\u001b[0mset_params\u001b[0m\u001b[0;34m(\u001b[0m\u001b[0;34m**\u001b[0m\u001b[0mparameters\u001b[0m\u001b[0;34m)\u001b[0m\u001b[0;34m\u001b[0m\u001b[0m\n\u001b[0m\u001b[1;32m    445\u001b[0m \u001b[0;34m\u001b[0m\u001b[0m\n\u001b[1;32m    446\u001b[0m     \u001b[0mstart_time\u001b[0m \u001b[0;34m=\u001b[0m \u001b[0mtime\u001b[0m\u001b[0;34m.\u001b[0m\u001b[0mtime\u001b[0m\u001b[0;34m(\u001b[0m\u001b[0;34m)\u001b[0m\u001b[0;34m\u001b[0m\u001b[0m\n",
      "\u001b[0;32m~/anaconda3/lib/python3.6/site-packages/sklearn/base.py\u001b[0m in \u001b[0;36mset_params\u001b[0;34m(self, **params)\u001b[0m\n\u001b[1;32m    272\u001b[0m                                  \u001b[0;34m'Check the list of available parameters '\u001b[0m\u001b[0;34m\u001b[0m\u001b[0m\n\u001b[1;32m    273\u001b[0m                                  \u001b[0;34m'with `estimator.get_params().keys()`.'\u001b[0m \u001b[0;34m%\u001b[0m\u001b[0;34m\u001b[0m\u001b[0m\n\u001b[0;32m--> 274\u001b[0;31m                                  (key, self))\n\u001b[0m\u001b[1;32m    275\u001b[0m \u001b[0;34m\u001b[0m\u001b[0m\n\u001b[1;32m    276\u001b[0m             \u001b[0;32mif\u001b[0m \u001b[0mdelim\u001b[0m\u001b[0;34m:\u001b[0m\u001b[0;34m\u001b[0m\u001b[0m\n",
      "\u001b[0;31mValueError\u001b[0m: Invalid parameter SVR for estimator RandomizedSearchCV(cv=ShuffleSplit(n_splits=10, random_state=None, test_size='default',\n       train_size=None),\n          error_score='raise',\n          estimator=Pipeline(memory=None,\n     steps=[('Scaler', StandardScaler(copy=True, with_mean=True, with_std=True)), ('SVR', SVR(C=1.0, cache_size=200, coef0=0.0, degree=3, epsilon=0.1, gamma='auto',\n  kernel='rbf', max_iter=-1, shrinking=True, tol=0.001, verbose=False))]),\n          fit_params=None, iid=True, n_iter=25, n_jobs=1,\n          param_distributions={'SVR__C': <scipy.stats._distn_infrastructure.rv_frozen object at 0x1a1d95eda0>, 'SVR__gamma': <scipy.stats._distn_infrastructure.rv_frozen object at 0x1a1d95e3c8>, 'SVR__kernel': ['rbf']},\n          pre_dispatch='2*n_jobs', random_state=None, refit=True,\n          return_train_score='warn', scoring='r2', verbose=0). Check the list of available parameters with `estimator.get_params().keys()`."
     ]
    }
   ],
   "source": [
    "#Define the Dictionaries of Parameters to optimize for each model...\n",
    "parameter_dists = {}\n",
    "parameter_dists['Support Vector Regressor'] = {'SVR__C': scipy.stats.expon(scale=100),\n",
    "                                               'SVR__gamma': scipy.stats.expon(scale=.1),\n",
    "                                               'SVR__kernel': ['rbf']}\n",
    "\n",
    "\n",
    "#Hyperparamter optimize the Models with defined parameter distributions\n",
    "for model in parameter_dists:\n",
    "    models[model] = RandomizedSearchCV(models[model],\n",
    "                                       parameter_dists[model], \n",
    "                                       n_iter=25, \n",
    "                                       scoring=score, \n",
    "                                       fit_params=None,\n",
    "                                       cv=cv).fit(X2,y)"
   ]
  },
  {
   "cell_type": "code",
   "execution_count": null,
   "metadata": {},
   "outputs": [],
   "source": [
    "for model in models:\n",
    "    cross_validation = cross_val_score(models[model],X2,y=y,cv=cv,scoring=score )\n",
    "    print(model,sum(cross_validation)/len(cross_validation))"
   ]
  },
  {
   "cell_type": "code",
   "execution_count": null,
   "metadata": {
    "collapsed": true
   },
   "outputs": [],
   "source": [
    "X_test = X2[27:]\n",
    "y_test = y[27:]\n",
    "X = X2[:27]\n",
    "y = y[:27]\n",
    "\n",
    "for model in models:\n",
    "    models[model].fit(X,y)"
   ]
  },
  {
   "cell_type": "code",
   "execution_count": null,
   "metadata": {},
   "outputs": [],
   "source": [
    "for model in models:\n",
    "    print(model)\n",
    "    plotModel(models[model],X,y,pcs=principal_components)"
   ]
  },
  {
   "cell_type": "code",
   "execution_count": null,
   "metadata": {},
   "outputs": [],
   "source": [
    "print('Maximum Limonene Titre: ',max(y))\n",
    "print(sorted(y))\n",
    "\n",
    "for model in models:\n",
    "    print('')\n",
    "    print(model)\n",
    "    print('===============')\n",
    "    print('Predicted Limonene | Measured Limonene')\n",
    "    for strain,target in zip(X_test,y_test):\n",
    "        print(models[model].predict([strain])[0],'|',target)"
   ]
  }
 ],
 "metadata": {
  "kernelspec": {
   "display_name": "Python 3",
   "language": "python",
   "name": "python3"
  },
  "language_info": {
   "codemirror_mode": {
    "name": "ipython",
    "version": 3
   },
   "file_extension": ".py",
   "mimetype": "text/x-python",
   "name": "python",
   "nbconvert_exporter": "python",
   "pygments_lexer": "ipython3",
   "version": "3.6.3"
  }
 },
 "nbformat": 4,
 "nbformat_minor": 2
}
